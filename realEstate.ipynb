{
 "cells": [
  {
   "attachments": {},
   "cell_type": "markdown",
   "metadata": {},
   "source": [
    "# Real Estate EDA"
   ]
  },
  {
   "attachments": {},
   "cell_type": "markdown",
   "metadata": {},
   "source": [
    "### Imports (Pandas - Python Data Analysis Library, Numbpy - Array Proessing Package, Seaborn - Statistical Data Visualisation, Matplotlib - Static Vizualization Library)"
   ]
  },
  {
   "cell_type": "code",
   "execution_count": 245,
   "metadata": {},
   "outputs": [],
   "source": [
    "# Standard Import Structure for EDA;\n",
    "import pandas as pd\n",
    "import numpy as np\n",
    "import seaborn as sns\n",
    "import matplotlib.pyplot as plt\n",
    "import regex as re\n",
    "\n",
    "# Importing Requests for use in API calls.\n",
    "import requests\n",
    "\n",
    "\n",
    "# Import Standard Packages for Date and Time;\n",
    "from datetime import datetime, timedelta\n",
    "\n",
    "# Import Beautiful Soup, Selenium, for Scraping\n",
    "from bs4 import BeautifulSoup\n",
    "from selenium import webdriver\n",
    "from selenium.webdriver.common.keys import Keys\n",
    "from selenium.webdriver.common.by import By\n",
    "\n",
    "# Import packages to help with parsing Information\n",
    "import lxml\n",
    "from lxml.html.soupparser import fromstring\n",
    "import prettify\n",
    "import numbers\n",
    "import htmltext\n"
   ]
  },
  {
   "attachments": {},
   "cell_type": "markdown",
   "metadata": {},
   "source": [
    "### Setup and Initialization"
   ]
  },
  {
   "cell_type": "code",
   "execution_count": 246,
   "metadata": {},
   "outputs": [
    {
     "name": "stdout",
     "output_type": "stream",
     "text": [
      "        Expensive   Affordable\n",
      "0            Elon         Eden\n",
      "1           Boone        Ayden\n",
      "2         Woodfin       Maiden\n",
      "3        Carrboro       Hamlet\n",
      "4       Asheville       Newton\n",
      "5       Pineville     Sawmills\n",
      "6      Wilmington     ArchDale\n",
      "7   Morehead City   Rockingham\n",
      "8  Black Mountain  Winterville\n",
      "9  Hendersonville  Gibsonville\n"
     ]
    }
   ],
   "source": [
    "# Set Maximum Displayed Columns to None; All Columns Listed\n",
    "pd.options.display.max_columns = None;\n",
    "\n",
    "# Set MatPlotLib to Display Elements\n",
    "%matplotlib inline\n",
    "\n",
    "# Import Cities in CSV file for 10 most and least expenive north carolina cities.csv\n",
    "cities_df = pd.read_csv(\"cities.csv\",header=0)\n",
    "\n",
    "print(cities_df)\n",
    "\n",
    "# Initialize Variables to be read into.\n",
    "address = ''\n",
    "price = 0\n",
    "beds = 0\n",
    "details = 0\n",
    "home_type = ''\n",
    "last_updated = ''\n",
    "brokerage = ''\n",
    "link = ''\n"
   ]
  },
  {
   "cell_type": "code",
   "execution_count": 247,
   "metadata": {},
   "outputs": [
    {
     "name": "stdout",
     "output_type": "stream",
     "text": [
      "['1bd', '1ba', '786', 'House']\n",
      "['2bd', '2ba', '1164', 'New construction']\n",
      "['4bd', '3ba', '2233', 'House']\n",
      "['1bd', '1ba', '509', 'House']\n",
      "['2bd', '1ba', '1234', 'House']\n",
      "['4bd', '2ba', '2141', 'House']\n",
      "['3bd', '2ba', '1675', 'House']\n",
      "['3bd', '2ba', '1790', 'House']\n",
      "['4bd', '3ba', '2702', 'House']\n",
      "['1bd', '1ba', '786', 'House']\n",
      "['2bd', '2ba', '1164', 'New construction']\n",
      "['4bd', '3ba', '2233', 'House']\n",
      "['1bd', '1ba', '509', 'House']\n",
      "['2bd', '1ba', '1234', 'House']\n",
      "['4bd', '2ba', '2141', 'House']\n",
      "['3bd', '2ba', '1675', 'House']\n",
      "['3bd', '2ba', '1790', 'House']\n",
      "['4bd', '3ba', '2702', 'House']\n",
      "['1bd', '1ba', '786', 'House']\n",
      "['2bd', '2ba', '1164', 'New construction']\n",
      "['4bd', '3ba', '2233', 'House']\n",
      "['1bd', '1ba', '509', 'House']\n",
      "['2bd', '1ba', '1234', 'House']\n",
      "['4bd', '2ba', '2141', 'House']\n",
      "['3bd', '2ba', '1675', 'House']\n",
      "['3bd', '2ba', '1790', 'House']\n",
      "['4bd', '3ba', '2702', 'House']\n",
      "Amount of listings Scraped: 27\n"
     ]
    }
   ],
   "source": [
    "# Insert Headers for various websites to pull information specifically.\n",
    "req_headers = {\"User-Agent\":\"Mozilla/5.0 (Windows NT 10.0; Win64; x64) AppleWebKit/537.36 (KHTML, like Gecko) Chrome/105.0.0.0 Safari/537.36\",\n",
    "    \"Accept-Language\":\"en-US,en;q=0.9\",\"Accept\":\"text/html,application/xhtml+xml,application/xml;q=0.9,image/avif,image/webp,image/apng,*/*;q=0.8,application/signed-exchange;v=b3;q=0.9\",\n",
    "    \"Accept-Encoding\":\"gzip, deflate, br\",\"upgrade-insecure-requests\":\"1\"}\n",
    "\n",
    "# Checking for Sale using Zillow.com\n",
    "# Using 20 Cities we use 20 URLs\n",
    "# Using loop to collect information from csv to pass to beautiful soup\n",
    "# for i in range(9):\n",
    "#     for j in range(2):\n",
    "#         # Get City from cities_df\n",
    "#         city = cities_df.iat[i,j]\n",
    "#         print(city)\n",
    "\n",
    "with requests.Session() as s:\n",
    "   city = 'asheville,-NC_rb/' #*****change this city to what you want*****\n",
    "   url = 'https://www.zillow.com/homes/for_sale/'+city    \n",
    "   r = s.get(url, headers=req_headers)\n",
    "\n",
    "\n",
    "# Parse bs4 response into html parser\n",
    "soup = BeautifulSoup(r.text, 'html.parser')\n",
    "\n",
    "# Create a DataFrame for Storage.\n",
    "house_df = pd.DataFrame(columns=['Price','Size','Address'])\n",
    "l=list()\n",
    "obj = {}\n",
    "\n",
    "\n",
    "# Loop through the created soup to add to df\n",
    "for i in soup:\n",
    "    properties = soup.find_all(\"div\",{\"class\":\"StyledPropertyCardDataWrapper-c11n-8-73-8__sc-1omp4c3-0 gXNuqr property-card-data\"})\n",
    "\n",
    "    for x in range(0,len(properties)):\n",
    "        try:\n",
    "            obj[\"pricing\"]=properties[x].find(\"div\",{\"class\":\"StyledPropertyCardDataArea-c11n-8-73-8__sc-yipmu-0 hRqIYX\"}).text\n",
    "        except:\n",
    "            obj[\"pricing\"]=None\n",
    "        try:\n",
    "            sizeInfo=properties[x].find(\"div\",{\"class\":\"StyledPropertyCardDataArea-c11n-8-73-8__sc-yipmu-0 ghGYOB\"}).text\n",
    "\n",
    "            # Format Correctly The Sizing Information for Split\n",
    "\n",
    "            # Steps:\n",
    "            # Remove Sq Ft Unit\n",
    "            # Remove Additional Info Indicator '-'\n",
    "            # Remove 'For Sale' Descriptor\n",
    "            # Remove WhiteSpace\n",
    "            # Correctly Gap Beds and Baths (Bd, and Ba) to be Uniform\n",
    "            # Remove Commas for Easier Delimitor for Later Split\n",
    "            sizeInfo = sizeInfo.replace('sqft','',1)\n",
    "            sizeInfo = sizeInfo.replace(' - ','')\n",
    "            sizeInfo = sizeInfo.replace(' for sale',\"\")\n",
    "\n",
    "            sizeInfo = sizeInfo.replace(\" \",\"\",2)\n",
    "\n",
    "            sizeInfo = sizeInfo.replace('bds','bd')\n",
    "            sizeInfo = sizeInfo.replace('bd','bd ')\n",
    "            sizeInfo = sizeInfo.replace('ba','ba ')\n",
    "            sizeInfo = sizeInfo.replace(',','')\n",
    "\n",
    "            # Create split based on whitespace and only 3 split times for grouping construction details\n",
    "            split = sizeInfo.split(' ',3)\n",
    "            print(split)\n",
    "            \n",
    "        except:\n",
    "            obj[\"size\"]=None\n",
    "        try:\n",
    "            obj[\"address\"]=properties[x].find(\"a\",{\"class\":\"StyledPropertyCardDataArea-c11n-8-73-8__sc-yipmu-0 lhIXlm property-card-link\"}).text\n",
    "        except:\n",
    "            obj[\"address\"]=None\n",
    "            \n",
    "        l.append(obj)  \n",
    "        obj={}\n",
    "print(\"Amount of listings Scraped: \"+str(len(l)))\n",
    "# List Completed if number > 0 || Empty\n",
    "        "
   ]
  },
  {
   "cell_type": "code",
   "execution_count": 248,
   "metadata": {},
   "outputs": [
    {
     "ename": "KeyError",
     "evalue": "'size'",
     "output_type": "error",
     "traceback": [
      "\u001b[1;31m---------------------------------------------------------------------------\u001b[0m",
      "\u001b[1;31mKeyError\u001b[0m                                  Traceback (most recent call last)",
      "Cell \u001b[1;32mIn[248], line 16\u001b[0m\n\u001b[0;32m     12\u001b[0m size \u001b[39m=\u001b[39m []\n\u001b[0;32m     14\u001b[0m \u001b[39mfor\u001b[39;00m j \u001b[39min\u001b[39;00m \u001b[39mrange\u001b[39m(\u001b[39m0\u001b[39m,\u001b[39mlen\u001b[39m(l)):\n\u001b[1;32m---> 16\u001b[0m     size\u001b[39m.\u001b[39mappend(l[j][\u001b[39m'\u001b[39;49m\u001b[39msize\u001b[39;49m\u001b[39m'\u001b[39;49m])\n\u001b[0;32m     18\u001b[0m \u001b[39m# Create DataFrame Column\u001b[39;00m\n\u001b[0;32m     19\u001b[0m house_df[\u001b[39m'\u001b[39m\u001b[39mSize\u001b[39m\u001b[39m'\u001b[39m] \u001b[39m=\u001b[39m size\n",
      "\u001b[1;31mKeyError\u001b[0m: 'size'"
     ]
    }
   ],
   "source": [
    "# Setup cost to be added to data frame using list\n",
    "cost = []\n",
    "\n",
    "for i in range(0,len(l)):\n",
    "\n",
    "    cost.append(l[i]['pricing'])\n",
    "\n",
    "# Create DataFrame Column\n",
    "house_df['Price'] = cost\n",
    "\n",
    "# Setup size to be added to data frame using list\n",
    "size = []\n",
    "\n",
    "for j in range(0,len(l)):\n",
    "\n",
    "    size.append(l[j]['size'])\n",
    "\n",
    "# Create DataFrame Column\n",
    "house_df['Size'] = size\n",
    "\n",
    "# Setup address to be added to data frame using list\n",
    "address = []\n",
    "\n",
    "for k in range(0,len(l)):\n",
    "\n",
    "    address.append(l[k]['address'])\n",
    "\n",
    "# Create DataFrame Column\n",
    "house_df['Address'] = address\n",
    "\n",
    "\n",
    "# Format Columns as String\n",
    "house_df['Price'] = house_df['Price'].astype('str')\n",
    "house_df['Size'] = house_df['Size'].astype('str')\n",
    "house_df['Address'] = house_df['Address'].astype('str')\n",
    "\n",
    "print(house_df)\n"
   ]
  }
 ],
 "metadata": {
  "kernelspec": {
   "display_name": "Python 3",
   "language": "python",
   "name": "python3"
  },
  "language_info": {
   "codemirror_mode": {
    "name": "ipython",
    "version": 3
   },
   "file_extension": ".py",
   "mimetype": "text/x-python",
   "name": "python",
   "nbconvert_exporter": "python",
   "pygments_lexer": "ipython3",
   "version": "3.11.1"
  },
  "orig_nbformat": 4,
  "vscode": {
   "interpreter": {
    "hash": "5238573367df39f7286bb46f9ff5f08f63a01a80960060ce41e3c79b190280fa"
   }
  }
 },
 "nbformat": 4,
 "nbformat_minor": 2
}
